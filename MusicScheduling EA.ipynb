{
 "cells": [
  {
   "cell_type": "markdown",
   "metadata": {},
   "source": [
    "# *Music Scheduling using Evolutionary Algorithms*\n",
    "This notebook implements a music scheduling algorithm for generating playlists which have an exact length (e.g. 60 minutes) while respecting constraints, i.e. specific categories of playlist elements. This could be used to create playlists for radio stations which need to backtime to a specific point of time.\n",
    "\n",
    "## General\n",
    "For using the algorithm, different data is required.\n",
    "- playlistelements.csv\n",
    "- playliststructure.csv\n",
    "\n",
    "### playlistelements.csv\n",
    "The playlistelements.csv contains information about elements which can be placed into the playlist. More specifically, this is the length of the element in seconds, the category of the element and a unique identifier.\n",
    "\n",
    "### playliststructure.csv\n",
    "The playliststructure.csv maintains information about the desired playlist structure, i.e. which element has to be played at a specific point of time."
   ]
  },
  {
   "cell_type": "markdown",
   "metadata": {},
   "source": [
    "# _Data Generation_\n",
    "\n",
    "## Retrieve playlistelements.csv\n",
    "For now, we are going to retrieve a PlaylistElements from the [CORGIS Dataset Project](https://think.cs.vt.edu/corgis/csv/music/music.html). We download the original file and create a new csv file which contains only the necessary data.\n",
    "\n",
    "### Download File"
   ]
  },
  {
   "cell_type": "code",
   "execution_count": 1,
   "metadata": {},
   "outputs": [
    {
     "data": {
      "text/plain": [
       "('playlistelementstmp.csv', <http.client.HTTPMessage at 0x20d54bb9550>)"
      ]
     },
     "execution_count": 1,
     "metadata": {},
     "output_type": "execute_result"
    }
   ],
   "source": [
    "# Imports\n",
    "import urllib\n",
    "import urllib.request\n",
    "\n",
    "# Download file\n",
    "urllib.request.urlretrieve('https://think.cs.vt.edu/corgis/csv/music/music.csv?forcedownload=1', 'playlistelementstmp.csv')"
   ]
  },
  {
   "cell_type": "markdown",
   "metadata": {},
   "source": [
    "### Clean File / Create cleaned File"
   ]
  },
  {
   "cell_type": "code",
   "execution_count": 2,
   "metadata": {},
   "outputs": [
    {
     "name": "stdout",
     "output_type": "stream",
     "text": [
      "Tranformed and wrote 9999 rows and found 241 genres\n"
     ]
    }
   ],
   "source": [
    "# Imports\n",
    "import csv\n",
    "\n",
    "# Genre list. later used for playliststructure.csv\n",
    "genres = []\n",
    "\n",
    "def getgenre(fieldname):\n",
    "    if len(fieldname) > 0 and ' ' in fieldname:\n",
    "            return fieldname.split(' ')[0]\n",
    "    return fieldname\n",
    "\n",
    "fieldnames = ['artist', 'song', 'duration', 'genre']\n",
    "with open('playlistelementstmp.csv', newline='') as readcsv, open('playlistelements.csv', 'w', newline='') as writecsv:\n",
    "        csvreader = csv.DictReader(readcsv, delimiter=',')\n",
    "        csvwriter = csv.DictWriter(writecsv, delimiter=',', fieldnames=fieldnames)\n",
    "        csvwriter.writeheader()\n",
    "        for i, row in enumerate(csvreader):\n",
    "            genre = getgenre(row['artist_mbtags'])\n",
    "            csvwriter.writerow({'artist': row['artist.name'],\n",
    "                                'song': row['title'],\n",
    "                                'duration': round(float(row['duration'])),\n",
    "                                'genre': genre})\n",
    "            if not(genre in genres) and len(genre) > 0:\n",
    "                genres.append(genre)\n",
    "        print('Tranformed and wrote', i, 'rows and found', len(genres), 'genres')"
   ]
  },
  {
   "cell_type": "markdown",
   "metadata": {},
   "source": [
    "## Create a playliststructure.csv"
   ]
  },
  {
   "cell_type": "code",
   "execution_count": 3,
   "metadata": {},
   "outputs": [],
   "source": [
    "# Imports\n",
    "import random\n",
    "\n",
    "# Set seed for reproducability\n",
    "random.seed(1)\n",
    "\n",
    "# Number of elements\n",
    "NO_ELEMENTS = 20\n",
    "# Probability of 'any' element (== Any Element can be played)\n",
    "PROB_ANY = 0.45\n",
    "\n",
    "fieldnames = ['element_categorie']\n",
    "with open('playliststructure.csv', 'w', newline='') as writecsv:\n",
    "    csvwriter = csv.DictWriter(writecsv, delimiter=',', fieldnames=fieldnames)\n",
    "    csvwriter.writeheader()\n",
    "    for i in range(NO_ELEMENTS):\n",
    "        if random.random() <= PROB_ANY:\n",
    "            element_categorie = 'ANY'\n",
    "        else:\n",
    "            element_categorie = genres[random.randrange(0, len(genres))]\n",
    "        csvwriter.writerow({'element_categorie': element_categorie})"
   ]
  },
  {
   "cell_type": "markdown",
   "metadata": {},
   "source": [
    "# _Playlist Generation_\n",
    "\n",
    "Now this is where things get interesting: We are gonna create a playlist with evolutionary algorithms. Therefore we first load the elements and the playliststructure.\n",
    "\n",
    "## Read CSV Files"
   ]
  },
  {
   "cell_type": "code",
   "execution_count": 4,
   "metadata": {},
   "outputs": [],
   "source": [
    "# Imports\n",
    "\n",
    "import csv\n",
    "import random\n",
    "\n",
    "playlist_structure = []\n",
    "playlist_elements = []\n",
    "\n",
    "with open('playliststructure.csv', 'r', newline='') as readstructure:\n",
    "    structurereader = csv.DictReader(readstructure, delimiter=',')\n",
    "    for r in structurereader:\n",
    "        playlist_structure.append(r['element_categorie'])\n",
    "        \n",
    "with open('playlistelements.csv', 'r', newline='') as readelements:\n",
    "    elementsreader = csv.DictReader(readelements, delimiter=',')\n",
    "    for r in elementsreader:\n",
    "        playlist_elements.append(r)"
   ]
  },
  {
   "cell_type": "markdown",
   "metadata": {},
   "source": [
    "## Define Evolutionary Algorithms\n",
    "**General**\n",
    "This is subset sum problem, since we want to find a subset of the songs which are - in sum - exactly 60 Minutes long. Following wikipedia, this problem is [np-complete](https://en.wikipedia.org/wiki/Subset_sum_problem).\n",
    "\n",
    "### Generate Helping Functions\n"
   ]
  },
  {
   "cell_type": "code",
   "execution_count": 5,
   "metadata": {},
   "outputs": [],
   "source": [
    "# Permutation changes one item of the solution to another one\n",
    "def mutation(solution, probability = 0.05):\n",
    "    for i in range(len(solution)):\n",
    "        if random.random() <= probability:\n",
    "            # Do permutation\n",
    "            newitem = random.randrange(0, len(playlist_elements))\n",
    "            while True:\n",
    "                newitem = random.randrange(0, len(playlist_elements))\n",
    "                if not(newitem in solution):\n",
    "                    break\n",
    "            solution[i] = newitem\n",
    "    return solution\n",
    "\n",
    "def crossover(solution0, solution1):\n",
    "    solution0 = sorted(solution0, key=lambda x:int(playlist_elements[x]['duration']))\n",
    "    solution1 = sorted(solution1, key=lambda x:int(playlist_elements[x]['duration']))\n",
    "    cutpoint = len(solution0) // 2\n",
    "    child = solution0[0:cutpoint]\n",
    "    for x in solution1:\n",
    "        if not(x in child):\n",
    "            child.append(x)\n",
    "    return child\n",
    "\n",
    "def generatechild(length):\n",
    "    solution = []\n",
    "    for i in range(length):\n",
    "        while True:\n",
    "            v = random.randrange(0, len(playlist_elements))\n",
    "            if not(v in solution):\n",
    "                break\n",
    "        solution.append(v)\n",
    "    return solution\n",
    "\n",
    "def evaluate(solution, maxlength):\n",
    "    playlist_length = [int(x['duration']) for x in [playlist_elements[p] for p in solution]]\n",
    "    return abs(maxlength-sum(playlist_length))"
   ]
  },
  {
   "cell_type": "markdown",
   "metadata": {},
   "source": [
    "### EA"
   ]
  },
  {
   "cell_type": "code",
   "execution_count": 6,
   "metadata": {},
   "outputs": [
    {
     "name": "stdout",
     "output_type": "stream",
     "text": [
      "Generation 0 - Best Value - 106\n",
      "Generation 1 - Best Value - 106\n",
      "Generation 2 - Best Value - 106\n",
      "Generation 3 - Best Value - 106\n",
      "Generation 4 - Best Value - 106\n",
      "Generation 5 - Best Value - 106\n",
      "Generation 6 - Best Value - 7\n",
      "Generation 7 - Best Value - 7\n",
      "Generation 8 - Best Value - 7\n",
      "Generation 9 - Best Value - 1\n",
      "Generation 10 - Best Value - 1\n",
      "Generation 11 - Best Value - 1\n",
      "Generation 12 - Best Value - 1\n",
      "Generation 13 - Best Value - 1\n",
      "Generation 14 - Best Value - 1\n",
      "Generation 15 - Best Value - 1\n",
      "Generation 16 - Best Value - 0\n",
      "Best Solution: [5892, 2145, 5198, 6949, 5972, 2299, 157, 3579, 9873, 1482, 4492, 213, 1475, 9545, 8295, 7277, 593, 3807, 6035, 9381]\n"
     ]
    }
   ],
   "source": [
    "MAX_SUM = 60 * 60 #60 Seconds * 60 Minutes = 3600 Seconds\n",
    "SOL_LENGTH = len(playlist_structure)\n",
    "GEN_SIZE = 100 # Amount of child\n",
    "MAX_EVAL = 100 # Maximum Evaluations\n",
    "\n",
    "solutions = [generatechild(SOL_LENGTH) for i in range(GEN_SIZE)]\n",
    "\n",
    "solution_evaluation = [evaluate(x, MAX_SUM) for x in solutions]\n",
    "sorted_indices = sorted(range(len(solution_evaluation)),key=lambda x:solution_evaluation[x])\n",
    "    \n",
    "for iteration in range(MAX_EVAL):\n",
    "    for i in range(GEN_SIZE):\n",
    "        #For now: Just take parents from the best 10%. --> Maybe change later!\n",
    "        #This differs strongly from general EAs, but for this task it is suitable.\n",
    "        parent1 = solutions[random.randrange(0, int(len(solutions) * .1))]\n",
    "        parent2 = solutions[random.randrange(0, int(len(solutions) * .1))]\n",
    "        co_child = crossover(parent1[:], parent2[:])\n",
    "        co_child = mutation(co_child, 0.1)\n",
    "        solutions.append(co_child)\n",
    "\n",
    "    solution_evaluation = [evaluate(x, MAX_SUM) for x in solutions]\n",
    "    sorted_indices = sorted(range(len(solution_evaluation)),key=lambda x:solution_evaluation[x])\n",
    "    #if iteration % 10 == 0:\n",
    "    print('Generation', iteration, '-', 'Best Value -', solution_evaluation[sorted_indices[0]])\n",
    "    solutions = [solutions[x] for x in sorted_indices[0:GEN_SIZE]]\n",
    "    if solution_evaluation[sorted_indices[0]] == 0:\n",
    "        break\n",
    "print('Best Solution:', solutions[0])"
   ]
  },
  {
   "cell_type": "code",
   "execution_count": null,
   "metadata": {},
   "outputs": [],
   "source": []
  },
  {
   "cell_type": "code",
   "execution_count": null,
   "metadata": {},
   "outputs": [],
   "source": []
  }
 ],
 "metadata": {
  "kernelspec": {
   "display_name": "Python 3",
   "language": "python",
   "name": "python3"
  },
  "language_info": {
   "codemirror_mode": {
    "name": "ipython",
    "version": 3
   },
   "file_extension": ".py",
   "mimetype": "text/x-python",
   "name": "python",
   "nbconvert_exporter": "python",
   "pygments_lexer": "ipython3",
   "version": "3.6.3"
  }
 },
 "nbformat": 4,
 "nbformat_minor": 2
}
